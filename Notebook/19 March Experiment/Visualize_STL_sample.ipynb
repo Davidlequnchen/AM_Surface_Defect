{
 "cells": [
  {
   "cell_type": "code",
   "execution_count": 16,
   "id": "354e4de4-ff6e-4883-9604-c633b77c8ad9",
   "metadata": {},
   "outputs": [],
   "source": [
    "import open3d as o3d\n",
    "import numpy as np"
   ]
  },
  {
   "cell_type": "code",
   "execution_count": 11,
   "id": "192dd857-eefc-4f6d-aff0-37e9b22a57a2",
   "metadata": {},
   "outputs": [],
   "source": [
    "mesh = o3d.io.read_triangle_mesh(\"1.stl\")\n",
    "    "
   ]
  },
  {
   "cell_type": "code",
   "execution_count": 25,
   "id": "99ef8f1a-73e0-4d61-821f-b4790b466ea0",
   "metadata": {},
   "outputs": [
    {
     "name": "stdout",
     "output_type": "stream",
     "text": [
      "Try to render a mesh with normals (exist: True) and colors (exist: True)\n",
      "A mesh with no normals and no colors does not look good.\n"
     ]
    }
   ],
   "source": [
    "print(\"Try to render a mesh with normals (exist: \" +\n",
    "      str(mesh.has_vertex_normals()) + \") and colors (exist: \" +\n",
    "      str(mesh.has_vertex_colors()) + \")\")\n",
    "o3d.visualization.draw_geometries([mesh])\n",
    "print(\"A mesh with no normals and no colors does not look good.\")"
   ]
  },
  {
   "cell_type": "code",
   "execution_count": 27,
   "id": "ae90d7f1-fb40-4d0e-9fb7-7b081eb2c80a",
   "metadata": {},
   "outputs": [
    {
     "name": "stdout",
     "output_type": "stream",
     "text": [
      "Computing normal and rendering it.\n",
      "[[-0.03459856  0.01525301  0.99928489]\n",
      " [-0.0365264  -0.01114121  0.99927058]\n",
      " [-0.03942616  0.02542192  0.99889905]\n",
      " ...\n",
      " [-0.12968352  0.0292927   0.99112266]\n",
      " [-0.12127604  0.02154669  0.99238494]\n",
      " [-0.12127555  0.0215437   0.99238506]]\n"
     ]
    }
   ],
   "source": [
    "print(\"Computing normal and rendering it.\")\n",
    "mesh_with_norm = mesh\n",
    "mesh_with_norm.compute_vertex_normals()\n",
    "print(np.asarray(mesh_with_norm.triangle_normals))\n",
    "o3d.visualization.draw_geometries([mesh_with_norm])"
   ]
  },
  {
   "cell_type": "code",
   "execution_count": 14,
   "id": "7c2fd339-1e13-4dfd-8307-e5308515d9f5",
   "metadata": {},
   "outputs": [
    {
     "name": "stdout",
     "output_type": "stream",
     "text": [
      "Painting the mesh\n"
     ]
    }
   ],
   "source": [
    "print(\"Painting the mesh\")\n",
    "mesh1 = mesh_with_norm\n",
    "mesh1.paint_uniform_color([1, 0.706, 0])\n",
    "o3d.visualization.draw_geometries([mesh1])"
   ]
  },
  {
   "cell_type": "code",
   "execution_count": 32,
   "id": "c7ffdfa5-6437-454f-aa9a-967834d088f5",
   "metadata": {},
   "outputs": [],
   "source": [
    "import pyvista as pv\n",
    "\n",
    "\n",
    "mesh_pv = pv.read(\"1.stl\")\n",
    "# cpos = mesh_pv.plot(show_edges=False, cmap='jet')"
   ]
  },
  {
   "cell_type": "code",
   "execution_count": 36,
   "id": "3b91c698-b756-4438-b453-4cf08c7145ee",
   "metadata": {},
   "outputs": [],
   "source": [
    "pcd = o3d.io.read_point_cloud(\"1234combined_2.xyz\", format='xyz')"
   ]
  },
  {
   "cell_type": "code",
   "execution_count": 38,
   "id": "74c5a469-e9d9-44b9-8db6-4b291d1f03a2",
   "metadata": {},
   "outputs": [],
   "source": [
    "o3d.visualization.draw_geometries([pcd])"
   ]
  }
 ],
 "metadata": {
  "kernelspec": {
   "display_name": "Python 3 (ipykernel)",
   "language": "python",
   "name": "python3"
  },
  "language_info": {
   "codemirror_mode": {
    "name": "ipython",
    "version": 3
   },
   "file_extension": ".py",
   "mimetype": "text/x-python",
   "name": "python",
   "nbconvert_exporter": "python",
   "pygments_lexer": "ipython3",
   "version": "3.8.12"
  }
 },
 "nbformat": 4,
 "nbformat_minor": 5
}
