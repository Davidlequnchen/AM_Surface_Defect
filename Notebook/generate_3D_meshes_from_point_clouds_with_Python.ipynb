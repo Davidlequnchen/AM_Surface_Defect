{
 "cells": [
  {
   "cell_type": "markdown",
   "metadata": {
    "id": "ESHGw_Kudkf4"
   },
   "source": [
    "Created by Florent Poux. Licence CC\n",
    "\n",
    "*   To reuse in your project, please cite the article.\n",
    "*   Have fun with this notebook that you can very simply run (ctrl+Enter) !\n",
    "*   The first time thought, it will ask you to get a key for it to be able to acces your Google drive folders if you want to work all remotely.\n",
    "*   Simply accept, and then change the \"10-MEDIUM/DATA/Point Cloud Sample/\" by the folder path containing your data\n",
    "\n",
    "Enjoy!"
   ]
  },
  {
   "cell_type": "markdown",
   "metadata": {
    "id": "TLxlwD5AdI57"
   },
   "source": [
    "# Step 1: Setting up the environment"
   ]
  },
  {
   "cell_type": "code",
   "execution_count": 1,
   "metadata": {
    "id": "xIL9q3EeOICm"
   },
   "outputs": [],
   "source": [
    "#http://www.open3d.org/docs/release/index.html\n",
    "# !pip install open3d"
   ]
  },
  {
   "cell_type": "markdown",
   "metadata": {
    "id": "wDQayYrmfMKi"
   },
   "source": [
    "# Step 2: Load and prepare the data"
   ]
  },
  {
   "cell_type": "code",
   "execution_count": 2,
   "metadata": {
    "id": "Uzrw-UieNDPt"
   },
   "outputs": [
    {
     "name": "stdout",
     "output_type": "stream",
     "text": [
      "Jupyter environment detected. Enabling Open3D WebVisualizer.\n",
      "[Open3D INFO] WebRTC GUI backend enabled.\n",
      "[Open3D INFO] WebRTCWindowSystem: HTTP handshake server disabled.\n"
     ]
    }
   ],
   "source": [
    "#libraries used\n",
    "import numpy as np\n",
    "import os\n",
    "import open3d as o3d"
   ]
  },
  {
   "cell_type": "code",
   "execution_count": 3,
   "metadata": {},
   "outputs": [],
   "source": [
    "import time"
   ]
  },
  {
   "cell_type": "code",
   "execution_count": 4,
   "metadata": {
    "id": "uCPkhRyEe9UM"
   },
   "outputs": [],
   "source": [
    "#create paths and load data\n",
    "# Where to save the figures\n",
    "PROJECT_ROOT_DIR = \"..\"\n",
    "IMAGES_PATH = os.path.join(PROJECT_ROOT_DIR, \"png_images\")\n",
    "DATA_PATH = os.path.join(PROJECT_ROOT_DIR, \"dataset\")\n",
    "XYZ_point_PATH = os.path.join(DATA_PATH, \"xyz\")\n",
    "PCD_point_PATH = os.path.join(DATA_PATH, \"pcd\")\n",
    "file_output_dir =  os.path.join(PROJECT_ROOT_DIR, \"output_dir/surface_fitting_result\")\n",
    "os.makedirs(IMAGES_PATH, exist_ok=True)\n",
    "os.makedirs(file_output_dir, exist_ok=True)\n",
    "\n",
    "## function for automatically save the diagram/graph into the folder \n",
    "def save_fig_plt(fig_id, tight_layout=True, fig_extension=\"png\", resolution=300):\n",
    "    path = os.path.join(IMAGES_PATH, fig_id + \".\" + fig_extension)\n",
    "    print(\"Saving figure\", fig_id)\n",
    "    if tight_layout:\n",
    "        plt.tight_layout()\n",
    "    plt.savefig(path, format=fig_extension, dpi=resolution)\n",
    "    \n",
    "# Ignore useless warnings (see SciPy issue #5998)\n",
    "import warnings\n",
    "warnings.filterwarnings(action=\"ignore\", message=\"^internal gelsd\")\n",
    "\n",
    "\n",
    "\n",
    "point_cloud= np.loadtxt(os.path.join(XYZ_point_PATH, \"30_seg.xyz\"),skiprows=1)"
   ]
  },
  {
   "cell_type": "code",
   "execution_count": 5,
   "metadata": {},
   "outputs": [],
   "source": [
    "pcd = o3d.io.read_point_cloud(os.path.join(PCD_point_PATH, \"30_seg.pcd\")) #H1_seg\n",
    "hull_mesh = pcd.compute_convex_hull()\n",
    "# hull_mesh\n",
    "o3d.visualization.draw_geometries([hull_mesh[0]])"
   ]
  },
  {
   "cell_type": "code",
   "execution_count": 6,
   "metadata": {},
   "outputs": [],
   "source": [
    "t0 = time.monotonic()"
   ]
  },
  {
   "cell_type": "code",
   "execution_count": 7,
   "metadata": {
    "id": "Q-6ISxhQfC0s"
   },
   "outputs": [],
   "source": [
    "#Format to open3d usable objects\n",
    "# pcd = o3d.geometry.PointCloud()\n",
    "# pcd.points = o3d.utility.Vector3dVector(point_cloud[:,:3])\n",
    "# pcd.colors = o3d.utility.Vector3dVector(point_cloud[:,3:6].astype(np.float)/255.0)  \n",
    "# pcd.normals = o3d.utility.Vector3dVector(point_cloud[:,6:9])"
   ]
  },
  {
   "cell_type": "code",
   "execution_count": 8,
   "metadata": {},
   "outputs": [],
   "source": [
    "# !pip install pyvista\n",
    "# !pip install ipyvtklink"
   ]
  },
  {
   "cell_type": "code",
   "execution_count": 9,
   "metadata": {},
   "outputs": [],
   "source": [
    "# import pyvista as pv\n",
    "# from pyvista import examples\n",
    "\n",
    "# # download an example and display it using physically based rendering.\n",
    "# mesh = examples.download_lucy()\n",
    "# mesh.plot(color='lightgrey', pbr=True, metallic=0.2,\n",
    "#           # jupyter_backend='pythreejs')"
   ]
  },
  {
   "cell_type": "code",
   "execution_count": 10,
   "metadata": {},
   "outputs": [
    {
     "name": "stdout",
     "output_type": "stream",
     "text": [
      "the points converted to numpy are: \n",
      "\n",
      "[[-0.090195    0.133964   -0.22784901]\n",
      " [-0.09033533  0.13413933 -0.227835  ]\n",
      " [-0.090437    0.13429749 -0.227854  ]\n",
      " ...\n",
      " [-0.063091    0.160614   -0.224999  ]\n",
      " [-0.062908    0.160607   -0.224997  ]\n",
      " [-0.063478    0.16084699 -0.224995  ]]\n",
      "the z value extracted:\n",
      "[4.990e-06 1.900e-05 0.000e+00 ... 2.855e-03 2.857e-03 2.859e-03]\n",
      "Z mean: 0.0015219748623726958\n",
      "Z minimum: 0.0\n",
      "Z max: 0.002912090000000006\n"
     ]
    }
   ],
   "source": [
    "# ---- using numpy to print all the points -------\n",
    "points_np_array = np.asarray(pcd.points)\n",
    "print(\"the points converted to numpy are: \\n\")\n",
    "print(points_np_array)\n",
    "#------extract x,y,z value of the points-----\n",
    "# ------------standarization-----------\n",
    "# bbdiag = float(np.linalg.norm(points_np_array.max(0) - points_np_array.min(0), 2))\n",
    "# points_np_array = (points_np_array - points_np_array.mean(0))/bbdiag\n",
    "# print(\"the points are: \\n\")\n",
    "# print(points_np_array)\n",
    "\n",
    "scale = 1\n",
    "x = points_np_array[:,0]* scale ## from m to mm\n",
    "y = points_np_array[:,1]*scale  ## from m to mm\n",
    "points_np_array[:,2] = points_np_array[:,2] - np.amin(points_np_array[:,2]) \n",
    "z = points_np_array[:,2]*scale  ## from m to mm\n",
    "print(\"the z value extracted:\" )\n",
    "print (z)\n",
    "\n",
    "# --------mean height-------------------\n",
    "z_mean = np.mean(z)\n",
    "print(\"Z mean: \" + str(z_mean))\n",
    "\n",
    "z_min = np.amin(z)\n",
    "z_max = np.amax(z)\n",
    "print (\"Z minimum: \"+ str(z_min))\n",
    "print (\"Z max: \"+ str(z_max))"
   ]
  },
  {
   "cell_type": "code",
   "execution_count": 11,
   "metadata": {},
   "outputs": [
    {
     "data": {
      "application/vnd.jupyter.widget-view+json": {
       "model_id": "01f4d636f44f45bb9b96966a48e3cd52",
       "version_major": 2,
       "version_minor": 0
      },
      "text/plain": [
       "ViewInteractiveWidget(height=768, layout=Layout(height='auto', width='100%'), width=1024)"
      ]
     },
     "metadata": {},
     "output_type": "display_data"
    }
   ],
   "source": [
    "import numpy as np\n",
    "import pyvista as pv\n",
    "\n",
    "\n",
    "cloud = pv.PolyData(point_cloud)\n",
    "cloud['point_color'] = cloud.points[:, 2]\n",
    "\n",
    "pv.plot(cloud,  cmap='jet', show_bounds=False)\n",
    "# cloud.plot(jupyter_backend='pythreejs',cmap='jet', show_bounds=True)\n",
    "# cloud.plot(jupyter_backend='ipygany', show_scalar_bar=True)\n",
    "# cloud.plot()"
   ]
  },
  {
   "cell_type": "code",
   "execution_count": 35,
   "metadata": {},
   "outputs": [
    {
     "data": {
      "application/vnd.jupyter.widget-view+json": {
       "model_id": "2cbb51216ad54078874c9d8668bc97a0",
       "version_major": 2,
       "version_minor": 0
      },
      "text/plain": [
       "ViewInteractiveWidget(height=768, layout=Layout(height='auto', width='100%'), width=1024)"
      ]
     },
     "metadata": {},
     "output_type": "display_data"
    },
    {
     "data": {
      "application/vnd.jupyter.widget-view+json": {
       "model_id": "de635fa154e04305932b50df8da56ef4",
       "version_major": 2,
       "version_minor": 0
      },
      "text/plain": [
       "ViewInteractiveWidget(height=768, layout=Layout(height='auto', width='100%'), width=1024)"
      ]
     },
     "metadata": {},
     "output_type": "display_data"
    }
   ],
   "source": [
    "point_cloud_boonlean = np.asarray(pcd.points)\n",
    "point_cloud_boonlean[:,0] = points_np_array[:,0]\n",
    "point_cloud_boonlean[:,1] = points_np_array[:,1]\n",
    "point_cloud_boonlean[:,2] = (z_max) - points_np_array[:,2] \n",
    "cloud_boonlean = pv.PolyData(point_cloud_boonlean)\n",
    "cloud_boonlean['point_color_boolean'] = cloud_boonlean.points[:, 2]\n",
    "# pv.plot(cloud_boonlean,  cmap='jet', show_bounds=False)\n",
    "pv.plot(cloud_boonlean, scalars='point_color_boolean', cmap='jet', show_bounds=False)\n",
    "\n",
    "# create many spheres from the point cloud\n",
    "sphere = pv.Sphere(radius=0.00001, phi_resolution=10, theta_resolution=10)\n",
    "pc_boonlean = cloud_boonlean.glyph(scale=False, geom=sphere)\n",
    "\n",
    "# pc.plot(cmap='jet') #ipyvtklink,pythreejs\n",
    "# pv.plot(cloud_boonlean, scalars='point_color', cmap='jet', show_bounds=False)\n",
    "\n",
    "volume_boolean = pc_boonlean.delaunay_3d(alpha=0.001)\n",
    "shell_5_boolean = volume_boolean.extract_geometry()\n",
    "# shell.plot(jupyter_backend='pythreejs',cmap='jet') # ipvtklink is very slow\n",
    "shell_5_boolean.plot(cmap='jet')"
   ]
  },
  {
   "cell_type": "code",
   "execution_count": 13,
   "metadata": {},
   "outputs": [
    {
     "data": {
      "application/vnd.jupyter.widget-view+json": {
       "model_id": "45bb3af893444a6c9cb403f0bc98438c",
       "version_major": 2,
       "version_minor": 0
      },
      "text/plain": [
       "ViewInteractiveWidget(height=768, layout=Layout(height='auto', width='100%'), width=1024)"
      ]
     },
     "metadata": {},
     "output_type": "display_data"
    }
   ],
   "source": [
    "# create many spheres from the point cloud\n",
    "sphere = pv.Sphere(radius=0.001, phi_resolution=1, theta_resolution=1)\n",
    "pc = cloud.glyph(scale=False, geom=sphere)\n",
    "\n",
    "# pc.plot(cmap='jet',jupyter_backend='pythreejs') #ipyvtklink,pythreejs\n",
    "pv.plot(cloud, scalars='point_color', cmap='jet', show_bounds=False)\n",
    "# pv.plot(cloud, scalars='point_color', cmap='jet', show_bounds=True)\n",
    "# pc.plot(cmap='jet') "
   ]
  },
  {
   "cell_type": "code",
   "execution_count": 14,
   "metadata": {},
   "outputs": [
    {
     "data": {
      "application/vnd.jupyter.widget-view+json": {
       "model_id": "f14a7b1e159e41b5bbcf34d35452e6f5",
       "version_major": 2,
       "version_minor": 0
      },
      "text/plain": [
       "ViewInteractiveWidget(height=768, layout=Layout(height='auto', width='100%'), width=1024)"
      ]
     },
     "metadata": {},
     "output_type": "display_data"
    }
   ],
   "source": [
    "volume = pc.delaunay_3d(alpha=5)\n",
    "shell_5 = volume.extract_geometry()\n",
    "# shell.plot(jupyter_backend='pythreejs',cmap='jet') # ipvtklink is very slow\n",
    "shell_5.plot(cmap='jet') "
   ]
  },
  {
   "cell_type": "code",
   "execution_count": 15,
   "metadata": {},
   "outputs": [],
   "source": [
    "volume = pc.delaunay_3d(alpha=0.1)\n",
    "shell = volume.extract_geometry()\n",
    "# shell.plot(jupyter_backend='pythreejs',cmap='jet') # ipvtklink is very slow\n",
    "# shell.plot(cmap='jet') "
   ]
  },
  {
   "cell_type": "code",
   "execution_count": 16,
   "metadata": {},
   "outputs": [],
   "source": [
    "volume = pc.delaunay_3d(alpha=1)\n",
    "shell = volume.extract_geometry()\n",
    "# shell.plot(jupyter_backend='pythreejs',cmap='jet') # ipvtklink is very slow\n",
    "# shell.plot(cmap='jet') "
   ]
  },
  {
   "cell_type": "code",
   "execution_count": 17,
   "metadata": {},
   "outputs": [
    {
     "data": {
      "application/vnd.jupyter.widget-view+json": {
       "model_id": "634b85fa31bf4ec19bdcebb9d92311de",
       "version_major": 2,
       "version_minor": 0
      },
      "text/plain": [
       "ViewInteractiveWidget(height=768, layout=Layout(height='auto', width='100%'), width=1024)"
      ]
     },
     "metadata": {},
     "output_type": "display_data"
    }
   ],
   "source": [
    "volume = cloud.delaunay_3d(alpha=10)\n",
    "shell = volume.extract_geometry()\n",
    "# shell.plot(jupyter_backend='pythreejs',cmap='jet') # ipvtklink is very slow,\n",
    "shell.plot(cmap='jet') "
   ]
  },
  {
   "cell_type": "code",
   "execution_count": 18,
   "metadata": {},
   "outputs": [
    {
     "data": {
      "application/vnd.jupyter.widget-view+json": {
       "model_id": "6a318f0021b847e2ade0d73c2e22b13d",
       "version_major": 2,
       "version_minor": 0
      },
      "text/plain": [
       "ViewInteractiveWidget(height=768, layout=Layout(height='auto', width='100%'), width=1024)"
      ]
     },
     "metadata": {},
     "output_type": "display_data"
    }
   ],
   "source": [
    "volume = pc.delaunay_3d(alpha=100)\n",
    "shell = volume.extract_geometry()\n",
    "# shell.plot(jupyter_backend='pythreejs',cmap='jet') # ipvtklink is very slow\n",
    "shell.plot(cmap='jet') "
   ]
  },
  {
   "cell_type": "code",
   "execution_count": 19,
   "metadata": {},
   "outputs": [],
   "source": [
    "volume = pc.delaunay_3d(alpha=0.01)\n",
    "shell = volume.extract_geometry()\n",
    "# shell.plot(jupyter_backend='pythreejs',cmap='jet') # ipvtklink is very slow\n",
    "# shell.plot(cmap='jet') "
   ]
  },
  {
   "cell_type": "code",
   "execution_count": 20,
   "metadata": {},
   "outputs": [
    {
     "name": "stdout",
     "output_type": "stream",
     "text": [
      "3.985000000000582\n"
     ]
    }
   ],
   "source": [
    "t1 = time.monotonic()\n",
    "print (t1 - t0)"
   ]
  },
  {
   "cell_type": "code",
   "execution_count": 21,
   "metadata": {},
   "outputs": [
    {
     "data": {
      "application/vnd.jupyter.widget-view+json": {
       "model_id": "e2b3ce5d7c6342758c37fd5340b906bf",
       "version_major": 2,
       "version_minor": 0
      },
      "text/plain": [
       "ViewInteractiveWidget(height=1536, layout=Layout(height='auto', width='100%'), width=2048)"
      ]
     },
     "metadata": {},
     "output_type": "display_data"
    }
   ],
   "source": [
    "p = pv.Plotter(window_size=np.array([1024, 768])*2)\n",
    "\n",
    "# Add all the data we want to see\n",
    "p.add_mesh(shell_5, cmap=\"nipy_spectral\", opacity=0.15)\n",
    "\n",
    "# Add a title\n",
    "p.add_text(\"converted mesh visualization\")\n",
    "\n",
    "# A nice perspective\n",
    "# p.camera_position = [(544065.5831913119, 3924518.576093113, 24324.3096344195),\n",
    "#                      (597885.1732914157, 3982998.0900773173, -12587.537450058662),\n",
    "#                      (0.33162714740718435, 0.26609487244915314, 0.9051060456978746)]\n",
    "p.show( screenshot=\"mesh.png\")"
   ]
  },
  {
   "cell_type": "code",
   "execution_count": 22,
   "metadata": {},
   "outputs": [],
   "source": [
    "# mesh points\n",
    "# vertices = np.array([[-16, -16, 3],\n",
    "#                      [16, -16, 3],\n",
    "#                      [16, 16, 3],\n",
    "#                      [-16, 16, 3]])\n",
    "\n",
    "# # mesh faces\n",
    "# # faces = np.hstack([[-16,-16,16,16]])    \n",
    "\n",
    "# surf = pv.PolyData(vertices, None)\n",
    "\n",
    "# # plot each face with a different color\n",
    "# surf.plot(scalars=np.arange(1), cpos=[-1, 1, 0.5])\n"
   ]
  },
  {
   "cell_type": "code",
   "execution_count": 23,
   "metadata": {},
   "outputs": [],
   "source": [
    "cyl = pv.Cylinder()\n",
    "arrow = pv.Arrow()\n",
    "sphere = pv.Sphere()\n",
    "plane = pv.Plane(center=(0, 0, 0), direction=(0, 0, 1), i_size=16, j_size=16, i_resolution=1, j_resolution=1)\n",
    "line = pv.Line()\n",
    "box = pv.Box(bounds=(- 16.0, 16.0, -16.0, 16.0, 0, 3))\n",
    "cone = pv.Cone()\n",
    "poly = pv.Polygon()\n",
    "disc = pv.Disc()"
   ]
  },
  {
   "cell_type": "code",
   "execution_count": 24,
   "metadata": {},
   "outputs": [
    {
     "data": {
      "application/vnd.jupyter.widget-view+json": {
       "model_id": "21e20d0bbdd340778db35cb5c327b86b",
       "version_major": 2,
       "version_minor": 0
      },
      "text/plain": [
       "ViewInteractiveWidget(height=768, layout=Layout(height='auto', width='100%'), width=1024)"
      ]
     },
     "metadata": {},
     "output_type": "display_data"
    }
   ],
   "source": [
    "p = pv.Plotter(shape=(1,4))\n",
    "# Top row\n",
    "p.subplot(0,0)\n",
    "p.add_mesh(plane, color=\"tan\", show_edges=True)\n",
    "p.subplot(0,1)\n",
    "p.add_mesh(box, color=\"tan\", show_edges=True)\n",
    "# Bottom row\n",
    "p.subplot(0,2)\n",
    "p.add_mesh(poly, color=\"tan\", show_edges=True)\n",
    "p.subplot(0,3)\n",
    "p.add_mesh(shell_5, cmap=\"nipy_spectral\", opacity=0.15)\n",
    "\n",
    "# Render all of them\n",
    "p.show()"
   ]
  },
  {
   "cell_type": "code",
   "execution_count": 25,
   "metadata": {},
   "outputs": [
    {
     "name": "stderr",
     "output_type": "stream",
     "text": [
      "ERROR:root:No points to subdivide\n",
      "ERROR:root:No points/cells to operate on\n",
      "ERROR:root:No points/cells to operate on\n"
     ]
    },
    {
     "ename": "ValueError",
     "evalue": "Empty meshes cannot be plotted. Input mesh has zero points.",
     "output_type": "error",
     "traceback": [
      "\u001b[1;31m---------------------------------------------------------------------------\u001b[0m",
      "\u001b[1;31mValueError\u001b[0m                                Traceback (most recent call last)",
      "\u001b[1;32m~\\AppData\\Local\\Temp\\ipykernel_1600\\1727591640.py\u001b[0m in \u001b[0;36m<module>\u001b[1;34m\u001b[0m\n\u001b[0;32m      4\u001b[0m \u001b[1;31m# _ = pl.add_mesh(box, color='r', style='wireframe', line_width=3)\u001b[0m\u001b[1;33m\u001b[0m\u001b[1;33m\u001b[0m\u001b[1;33m\u001b[0m\u001b[0m\n\u001b[0;32m      5\u001b[0m \u001b[1;31m# _ = pl.add_mesh(shell_5, color='b', style='wireframe', line_width=3)\u001b[0m\u001b[1;33m\u001b[0m\u001b[1;33m\u001b[0m\u001b[1;33m\u001b[0m\u001b[0m\n\u001b[1;32m----> 6\u001b[1;33m \u001b[0m_\u001b[0m \u001b[1;33m=\u001b[0m \u001b[0mpl\u001b[0m\u001b[1;33m.\u001b[0m\u001b[0madd_mesh\u001b[0m\u001b[1;33m(\u001b[0m\u001b[0mresult\u001b[0m\u001b[1;33m,\u001b[0m \u001b[0mcolor\u001b[0m\u001b[1;33m=\u001b[0m\u001b[1;34m'tan'\u001b[0m\u001b[1;33m)\u001b[0m\u001b[1;33m\u001b[0m\u001b[1;33m\u001b[0m\u001b[0m\n\u001b[0m\u001b[0;32m      7\u001b[0m \u001b[1;31m# pl.camera_position = 'xz'\u001b[0m\u001b[1;33m\u001b[0m\u001b[1;33m\u001b[0m\u001b[1;33m\u001b[0m\u001b[0m\n\u001b[0;32m      8\u001b[0m \u001b[0mpl\u001b[0m\u001b[1;33m.\u001b[0m\u001b[0mshow\u001b[0m\u001b[1;33m(\u001b[0m\u001b[1;33m)\u001b[0m\u001b[1;33m\u001b[0m\u001b[1;33m\u001b[0m\u001b[0m\n",
      "\u001b[1;32m~\\anaconda3\\envs\\working_primary\\lib\\site-packages\\pyvista\\plotting\\plotting.py\u001b[0m in \u001b[0;36madd_mesh\u001b[1;34m(self, mesh, color, style, scalars, clim, show_edges, edge_color, point_size, line_width, opacity, flip_scalars, lighting, n_colors, interpolate_before_map, cmap, label, reset_camera, scalar_bar_args, show_scalar_bar, multi_colors, name, texture, render_points_as_spheres, render_lines_as_tubes, smooth_shading, split_sharp_edges, ambient, diffuse, specular, specular_power, nan_color, nan_opacity, culling, rgb, categories, silhouette, use_transparency, below_color, above_color, annotations, pickable, preference, log_scale, pbr, metallic, roughness, render, component, **kwargs)\u001b[0m\n\u001b[0;32m   2073\u001b[0m \u001b[1;33m\u001b[0m\u001b[0m\n\u001b[0;32m   2074\u001b[0m         \u001b[1;32mif\u001b[0m \u001b[0mmesh\u001b[0m\u001b[1;33m.\u001b[0m\u001b[0mn_points\u001b[0m \u001b[1;33m<\u001b[0m \u001b[1;36m1\u001b[0m\u001b[1;33m:\u001b[0m\u001b[1;33m\u001b[0m\u001b[1;33m\u001b[0m\u001b[0m\n\u001b[1;32m-> 2075\u001b[1;33m             \u001b[1;32mraise\u001b[0m \u001b[0mValueError\u001b[0m\u001b[1;33m(\u001b[0m\u001b[1;34m'Empty meshes cannot be plotted. Input mesh has zero points.'\u001b[0m\u001b[1;33m)\u001b[0m\u001b[1;33m\u001b[0m\u001b[1;33m\u001b[0m\u001b[0m\n\u001b[0m\u001b[0;32m   2076\u001b[0m \u001b[1;33m\u001b[0m\u001b[0m\n\u001b[0;32m   2077\u001b[0m         \u001b[1;31m# set main values\u001b[0m\u001b[1;33m\u001b[0m\u001b[1;33m\u001b[0m\u001b[1;33m\u001b[0m\u001b[0m\n",
      "\u001b[1;31mValueError\u001b[0m: Empty meshes cannot be plotted. Input mesh has zero points."
     ]
    }
   ],
   "source": [
    "## boonlean operation\n",
    "result = (shell_5.triangulate()).boolean_difference(box.triangulate())\n",
    "pl = pv.Plotter()\n",
    "# _ = pl.add_mesh(box, color='r', style='wireframe', line_width=3)\n",
    "# _ = pl.add_mesh(shell_5, color='b', style='wireframe', line_width=3)\n",
    "_ = pl.add_mesh(result, color='tan')\n",
    "# pl.camera_position = 'xz'\n",
    "pl.show()"
   ]
  },
  {
   "cell_type": "markdown",
   "metadata": {
    "id": "8_lk8f2Irlfl"
   },
   "source": [
    "# Step 3: Choose a meshing strategy"
   ]
  },
  {
   "cell_type": "markdown",
   "metadata": {
    "id": "keheHCh_fo66"
   },
   "source": [
    "Now we are ready to start the surface reconstruction process by meshing the pcd point cloud. I will give my favorite way to efficiently obtain results, but before we dive in, some condensed details ar necessary to grasp the underlying processes. I will limit myself to two meshing strategies. See article"
   ]
  },
  {
   "cell_type": "markdown",
   "metadata": {
    "id": "rypFhEUjrryA"
   },
   "source": [
    "# Step 4: Process the data\n",
    "## Strategy 1: BPA"
   ]
  },
  {
   "cell_type": "code",
   "execution_count": null,
   "metadata": {
    "id": "_k1OmNMcOnxI"
   },
   "outputs": [],
   "source": [
    "#radius determination\n",
    "distances = pcd.compute_nearest_neighbor_distance()\n",
    "avg_dist = np.mean(distances)\n",
    "radius = 3 * avg_dist"
   ]
  },
  {
   "cell_type": "code",
   "execution_count": null,
   "metadata": {
    "id": "93CP_vJ3F-aU"
   },
   "outputs": [],
   "source": [
    "#computing the mehs\n",
    "bpa_mesh = o3d.geometry.TriangleMesh.create_from_point_cloud_ball_pivoting(pcd,o3d.utility.DoubleVector([radius, radius * 2]))"
   ]
  },
  {
   "cell_type": "code",
   "execution_count": null,
   "metadata": {
    "id": "lCv0aXETf-b-"
   },
   "outputs": [],
   "source": [
    "#decimating the mesh\n",
    "dec_mesh = mesh.simplify_quadric_decimation(100000)"
   ]
  },
  {
   "cell_type": "markdown",
   "metadata": {
    "id": "Tgv_73IEgCgH"
   },
   "source": [
    "*Optional ---*"
   ]
  },
  {
   "cell_type": "code",
   "execution_count": null,
   "metadata": {
    "id": "j_5H7AnegBNa"
   },
   "outputs": [],
   "source": [
    "dec_mesh.remove_degenerate_triangles()\n",
    "dec_mesh.remove_duplicated_triangles()\n",
    "dec_mesh.remove_duplicated_vertices()\n",
    "dec_mesh.remove_non_manifold_edges()"
   ]
  },
  {
   "cell_type": "markdown",
   "metadata": {
    "id": "DLRvO9bSgHgB"
   },
   "source": [
    "## Strategy 2: Poisson' reconstruction"
   ]
  },
  {
   "cell_type": "code",
   "execution_count": null,
   "metadata": {
    "id": "Bb66rd6nFfL-"
   },
   "outputs": [],
   "source": [
    "#computing the mesh\n",
    "poisson_mesh = o3d.geometry.TriangleMesh.create_from_point_cloud_poisson(pcd, depth=8, width=0, scale=1.1, linear_fit=False)[0]"
   ]
  },
  {
   "cell_type": "code",
   "execution_count": null,
   "metadata": {
    "id": "V-7o1CJUuUJs"
   },
   "outputs": [],
   "source": [
    "#cropping\n",
    "bbox = pcd.get_axis_aligned_bounding_box()\n",
    "p_mesh_crop = poisson_mesh.crop(bbox)"
   ]
  },
  {
   "cell_type": "markdown",
   "metadata": {
    "id": "uGd6ZlZkgYa1"
   },
   "source": [
    "# Step 5: Export and visualize"
   ]
  },
  {
   "cell_type": "code",
   "execution_count": null,
   "metadata": {
    "id": "rWMbbiWRumIn"
   },
   "outputs": [],
   "source": [
    "#export\n",
    "o3d.io.write_triangle_mesh(output_path+\"bpa_mesh.ply\", dec_mesh)\n",
    "o3d.io.write_triangle_mesh(output_path+\"p_mesh_c.ply\", p_mesh_crop)"
   ]
  },
  {
   "cell_type": "code",
   "execution_count": null,
   "metadata": {
    "id": "aNCA9dH2Fw5j"
   },
   "outputs": [],
   "source": [
    "#function creation\n",
    "def lod_mesh_export(mesh, lods, extension, path):\n",
    "    mesh_lods={}\n",
    "    for i in lods:\n",
    "        mesh_lod = mesh.simplify_quadric_decimation(i)\n",
    "        o3d.io.write_triangle_mesh(path+\"lod_\"+str(i)+extension, mesh_lod)\n",
    "        mesh_lods[i]=mesh_lod\n",
    "    print(\"generation of \"+str(i)+\" LoD successful\")\n",
    "    return mesh_lods"
   ]
  },
  {
   "cell_type": "code",
   "execution_count": null,
   "metadata": {
    "id": "sio4Dn4qjlmP"
   },
   "outputs": [],
   "source": [
    "#execution of function\n",
    "my_lods = lod_mesh_export(bpa_mesh, [100000,50000,10000,1000,100], \".ply\", output_path)"
   ]
  },
  {
   "cell_type": "code",
   "execution_count": null,
   "metadata": {
    "id": "vBkKEBmPgmar"
   },
   "outputs": [],
   "source": [
    "#execution of function\n",
    "my_lods2 = lod_mesh_export(bpa_mesh, [8000,800,300], \".ply\", output_path)"
   ]
  }
 ],
 "metadata": {
  "colab": {
   "collapsed_sections": [],
   "name": "5-Step-Guide-to-generate-3D-meshes-from-point-clouds-with-Python.ipynb",
   "provenance": []
  },
  "kernelspec": {
   "display_name": "Python 3 (ipykernel)",
   "language": "python",
   "name": "python3"
  },
  "language_info": {
   "codemirror_mode": {
    "name": "ipython",
    "version": 3
   },
   "file_extension": ".py",
   "mimetype": "text/x-python",
   "name": "python",
   "nbconvert_exporter": "python",
   "pygments_lexer": "ipython3",
   "version": "3.8.12"
  }
 },
 "nbformat": 4,
 "nbformat_minor": 4
}
