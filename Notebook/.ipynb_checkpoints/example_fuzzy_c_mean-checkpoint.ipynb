{
 "cells": [
  {
   "cell_type": "code",
   "execution_count": null,
   "id": "19d14626-16f8-44f1-bdfd-75f99e40b885",
   "metadata": {},
   "outputs": [],
   "source": [
    "import skfuzzy as fuzz\n",
    "from fcmeans import FCM\n",
    "\n",
    "# Define three cluster centers\n",
    "centers = [[4, 2],\n",
    "           [1, 7],\n",
    "           [5, 6]]\n",
    "\n",
    "# Define three cluster sigmas in x and y, respectively\n",
    "sigmas = [[0.8, 0.3],\n",
    "          [0.3, 0.5],\n",
    "          [1.1, 0.7]]\n",
    "\n",
    "# Generate test data\n",
    "np.random.seed(42)  # Set seed for reproducibility\n",
    "xpts = np.zeros(1)\n",
    "ypts = np.zeros(1)\n",
    "labels = np.zeros(1)\n",
    "for i, ((xmu, ymu), (xsigma, ysigma)) in enumerate(zip(centers, sigmas)):\n",
    "    xpts = np.hstack((xpts, np.random.standard_normal(200) * xsigma + xmu))\n",
    "    ypts = np.hstack((ypts, np.random.standard_normal(200) * ysigma + ymu))\n",
    "    labels = np.hstack((labels, np.ones(200) * i))"
   ]
  },
  {
   "cell_type": "code",
   "execution_count": null,
   "id": "4eee2899-f47b-4bd9-9aa7-a6017387a75a",
   "metadata": {},
   "outputs": [],
   "source": [
    "xpts.shape"
   ]
  },
  {
   "cell_type": "code",
   "execution_count": null,
   "id": "580dff8c-326a-443d-9078-3c7275b194ee",
   "metadata": {},
   "outputs": [],
   "source": [
    "ypts.shape"
   ]
  },
  {
   "cell_type": "code",
   "execution_count": null,
   "id": "082713b1-4ce0-417a-923c-ead4c01cb787",
   "metadata": {},
   "outputs": [],
   "source": [
    "# Visualize the test data\n",
    "fig0, ax0 = plt.subplots()\n",
    "for label in range(3):\n",
    "    ax0.plot(xpts[labels == label], ypts[labels == label], '.',\n",
    "             color=colors[label])\n",
    "ax0.set_title('Test data: 200 points x3 clusters.')"
   ]
  },
  {
   "cell_type": "code",
   "execution_count": null,
   "id": "b74960a8-029c-4717-a58d-f09f53c80f4d",
   "metadata": {},
   "outputs": [],
   "source": [
    "# Set up the loop and plot\n",
    "fig1, axes1 = plt.subplots(3, 3, figsize=(8, 8))\n",
    "alldata = np.vstack((xpts, ypts))\n",
    "fpcs = []\n",
    "\n",
    "print(alldata.shape)\n",
    "for ncenters, ax in enumerate(axes1.reshape(-1), 2):\n",
    "    cntr, u, u0, d, jm, p, fpc = fuzz.cluster.cmeans(\n",
    "        alldata, ncenters, 2, error=0.005, maxiter=1000, init=None)\n",
    "\n",
    "    # Store fpc values for later\n",
    "    fpcs.append(fpc)\n",
    "\n",
    "    # Plot assigned clusters, for each data point in training set\n",
    "    cluster_membership = np.argmax(u, axis=0)\n",
    "    for j in range(ncenters):\n",
    "        ax.plot(xpts[cluster_membership == j],\n",
    "                ypts[cluster_membership == j], '.', color=colors[j])\n",
    "\n",
    "    # Mark the center of each fuzzy cluster\n",
    "    for pt in cntr:\n",
    "        ax.plot(pt[0], pt[1], 'rs')\n",
    "\n",
    "    ax.set_title('Centers = {0}; FPC = {1:.2f}'.format(ncenters, fpc))\n",
    "    ax.axis('off')\n",
    "\n",
    "fig1.tight_layout()"
   ]
  },
  {
   "cell_type": "markdown",
   "id": "e54627a2-6628-434f-aa76-378b8136a738",
   "metadata": {},
   "source": [
    "### The fuzzy partition coefficient (FPC)\n",
    "\n",
    "The FPC is defined on the range from 0 to 1, with 1 being best. It is a metric which tells us how cleanly our data is described by a certain model. Next we will cluster our set of data - which we know has three clusters - several times, with between 2 and 9 clusters. We will then show the results of the clustering, and plot the fuzzy partition coefficient. When the FPC is maximized, our data is described best."
   ]
  },
  {
   "cell_type": "code",
   "execution_count": null,
   "id": "2600247e-09d8-457b-bf8e-9d652397aec1",
   "metadata": {},
   "outputs": [],
   "source": [
    "fig2, ax2 = plt.subplots()\n",
    "ax2.plot(np.r_[2:11], fpcs)\n",
    "ax2.set_xlabel(\"Number of centers\")\n",
    "ax2.set_ylabel(\"Fuzzy partition coefficient\")"
   ]
  },
  {
   "cell_type": "markdown",
   "id": "ad711cbf-faf6-4a9b-8f6b-8e4891781524",
   "metadata": {},
   "source": [
    "#### Classifying New Data"
   ]
  },
  {
   "cell_type": "code",
   "execution_count": null,
   "id": "d8286370-d995-4da0-8a28-997582b6a36d",
   "metadata": {},
   "outputs": [],
   "source": [
    "# Regenerate fuzzy model with 3 cluster centers - note that center ordering\n",
    "# is random in this clustering algorithm, so the centers may change places\n",
    "cntr, u_orig, _, _, _, _, _ = fuzz.cluster.cmeans(\n",
    "    alldata, 3, 2, error=0.005, maxiter=1000)\n",
    "\n",
    "# Show 3-cluster model\n",
    "fig2, ax2 = plt.subplots()\n",
    "ax2.set_title('Trained model')\n",
    "for j in range(3):\n",
    "    ax2.plot(alldata[0, u_orig.argmax(axis=0) == j],\n",
    "             alldata[1, u_orig.argmax(axis=0) == j], 'o',\n",
    "             label='series ' + str(j))\n",
    "ax2.legend()"
   ]
  },
  {
   "cell_type": "code",
   "execution_count": null,
   "id": "cec6a9d4-e68a-4f32-868e-65b426f93bc2",
   "metadata": {},
   "outputs": [],
   "source": [
    "# Generate uniformly sampled data spread across the range [0, 10] in x and y\n",
    "newdata = np.random.uniform(0, 1, (1100, 2)) * 10\n",
    "\n",
    "# Predict new cluster membership with `cmeans_predict` as well as\n",
    "# `cntr` from the 3-cluster model\n",
    "u, u0, d, jm, p, fpc = fuzz.cluster.cmeans_predict(\n",
    "    newdata.T, cntr, 2, error=0.005, maxiter=1000)\n",
    "\n",
    "# Plot the classified uniform data. Note for visualization the maximum\n",
    "# membership value has been taken at each point (i.e. these are hardened,\n",
    "# not fuzzy results visualized) but the full fuzzy result is the output\n",
    "# from cmeans_predict.\n",
    "cluster_membership = np.argmax(u, axis=0)  # Hardening for visualization\n",
    "\n",
    "fig3, ax3 = plt.subplots()\n",
    "ax3.set_title('Random points classifed according to known centers')\n",
    "for j in range(3):\n",
    "    ax3.plot(newdata[cluster_membership == j, 0],\n",
    "             newdata[cluster_membership == j, 1], 'o',\n",
    "             label='series ' + str(j))\n",
    "ax3.legend()\n",
    "\n",
    "plt.show()"
   ]
  }
 ],
 "metadata": {
  "kernelspec": {
   "display_name": "Python 3 (ipykernel)",
   "language": "python",
   "name": "python3"
  },
  "language_info": {
   "codemirror_mode": {
    "name": "ipython",
    "version": 3
   },
   "file_extension": ".py",
   "mimetype": "text/x-python",
   "name": "python",
   "nbconvert_exporter": "python",
   "pygments_lexer": "ipython3",
   "version": "3.8.12"
  }
 },
 "nbformat": 4,
 "nbformat_minor": 5
}
